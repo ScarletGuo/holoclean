{
 "cells": [
  {
   "cell_type": "code",
   "execution_count": 1,
   "metadata": {},
   "outputs": [],
   "source": [
    "import psycopg2\n",
    "import pandas as pd\n",
    "from string import Template"
   ]
  },
  {
   "cell_type": "code",
   "execution_count": 2,
   "metadata": {},
   "outputs": [],
   "source": [
    "# dataname = \"small_census_01\"\n",
    "# index = \"v1\""
   ]
  },
  {
   "cell_type": "code",
   "execution_count": 3,
   "metadata": {},
   "outputs": [],
   "source": [
    "dataname = \"small_adult_1\"\n",
    "index = \"1\""
   ]
  },
  {
   "cell_type": "code",
   "execution_count": 4,
   "metadata": {},
   "outputs": [],
   "source": [
    "# dataname =  \"food_small\"\n",
    "# index = \"v1\""
   ]
  },
  {
   "cell_type": "markdown",
   "metadata": {},
   "source": [
    "### Connect to db"
   ]
  },
  {
   "cell_type": "code",
   "execution_count": 5,
   "metadata": {},
   "outputs": [],
   "source": [
    "conn = psycopg2.connect(host=\"localhost\",\n",
    "                        database=\"{}_{}\".format(dataname,index), \n",
    "                        user=\"holocleanuser\", \n",
    "                        password=\"abcd1234\")"
   ]
  },
  {
   "cell_type": "code",
   "execution_count": 6,
   "metadata": {},
   "outputs": [],
   "source": [
    "def query_df(q, value = []):\n",
    "    if len(value) != 0:\n",
    "        df = pd.read_sql_query(q, conn, params=value)\n",
    "    else:\n",
    "        df = pd.read_sql_query(q, conn)\n",
    "    return df"
   ]
  },
  {
   "cell_type": "code",
   "execution_count": 7,
   "metadata": {},
   "outputs": [],
   "source": [
    "def table_lists():\n",
    "    df = query_df(\"\"\"SELECT table_name FROM information_schema.tables\n",
    "       WHERE table_schema = 'public'\"\"\")\n",
    "    return df"
   ]
  },
  {
   "cell_type": "code",
   "execution_count": 8,
   "metadata": {},
   "outputs": [
    {
     "data": {
      "text/html": [
       "<div>\n",
       "<style scoped>\n",
       "    .dataframe tbody tr th:only-of-type {\n",
       "        vertical-align: middle;\n",
       "    }\n",
       "\n",
       "    .dataframe tbody tr th {\n",
       "        vertical-align: top;\n",
       "    }\n",
       "\n",
       "    .dataframe thead th {\n",
       "        text-align: right;\n",
       "    }\n",
       "</style>\n",
       "<table border=\"1\" class=\"dataframe\">\n",
       "  <thead>\n",
       "    <tr style=\"text-align: right;\">\n",
       "      <th></th>\n",
       "      <th>table_name</th>\n",
       "    </tr>\n",
       "  </thead>\n",
       "  <tbody>\n",
       "    <tr>\n",
       "      <th>0</th>\n",
       "      <td>small_adult_1</td>\n",
       "    </tr>\n",
       "    <tr>\n",
       "      <th>1</th>\n",
       "      <td>dk_cells</td>\n",
       "    </tr>\n",
       "    <tr>\n",
       "      <th>2</th>\n",
       "      <td>cell_domain</td>\n",
       "    </tr>\n",
       "    <tr>\n",
       "      <th>3</th>\n",
       "      <td>pos_values</td>\n",
       "    </tr>\n",
       "    <tr>\n",
       "      <th>4</th>\n",
       "      <td>test</td>\n",
       "    </tr>\n",
       "    <tr>\n",
       "      <th>5</th>\n",
       "      <td>cell_distr</td>\n",
       "    </tr>\n",
       "    <tr>\n",
       "      <th>6</th>\n",
       "      <td>inf_values_idx</td>\n",
       "    </tr>\n",
       "    <tr>\n",
       "      <th>7</th>\n",
       "      <td>inf_values_dom</td>\n",
       "    </tr>\n",
       "    <tr>\n",
       "      <th>8</th>\n",
       "      <td>small_adult_1_repaired</td>\n",
       "    </tr>\n",
       "    <tr>\n",
       "      <th>9</th>\n",
       "      <td>small_adult_1_clean</td>\n",
       "    </tr>\n",
       "    <tr>\n",
       "      <th>10</th>\n",
       "      <td>test_1</td>\n",
       "    </tr>\n",
       "  </tbody>\n",
       "</table>\n",
       "</div>"
      ],
      "text/plain": [
       "                table_name\n",
       "0            small_adult_1\n",
       "1                 dk_cells\n",
       "2              cell_domain\n",
       "3               pos_values\n",
       "4                     test\n",
       "5               cell_distr\n",
       "6           inf_values_idx\n",
       "7           inf_values_dom\n",
       "8   small_adult_1_repaired\n",
       "9      small_adult_1_clean\n",
       "10                  test_1"
      ]
     },
     "execution_count": 8,
     "metadata": {},
     "output_type": "execute_result"
    }
   ],
   "source": [
    "table_lists()"
   ]
  },
  {
   "cell_type": "code",
   "execution_count": 9,
   "metadata": {},
   "outputs": [],
   "source": [
    "df = query_df(\"select * from small_adult_1\")"
   ]
  },
  {
   "cell_type": "code",
   "execution_count": 10,
   "metadata": {},
   "outputs": [
    {
     "data": {
      "text/html": [
       "<div>\n",
       "<style scoped>\n",
       "    .dataframe tbody tr th:only-of-type {\n",
       "        vertical-align: middle;\n",
       "    }\n",
       "\n",
       "    .dataframe tbody tr th {\n",
       "        vertical-align: top;\n",
       "    }\n",
       "\n",
       "    .dataframe thead th {\n",
       "        text-align: right;\n",
       "    }\n",
       "</style>\n",
       "<table border=\"1\" class=\"dataframe\">\n",
       "  <thead>\n",
       "    <tr style=\"text-align: right;\">\n",
       "      <th></th>\n",
       "      <th>_tid_</th>\n",
       "      <th>age</th>\n",
       "      <th>workclass</th>\n",
       "      <th>education</th>\n",
       "      <th>maritalstatus</th>\n",
       "      <th>occupation</th>\n",
       "      <th>relationship</th>\n",
       "      <th>race</th>\n",
       "      <th>sex</th>\n",
       "      <th>hoursperweek</th>\n",
       "      <th>country</th>\n",
       "      <th>income</th>\n",
       "    </tr>\n",
       "  </thead>\n",
       "  <tbody>\n",
       "    <tr>\n",
       "      <th>0</th>\n",
       "      <td>0</td>\n",
       "      <td>&lt;18</td>\n",
       "      <td>private</td>\n",
       "      <td>10th</td>\n",
       "      <td>never-married</td>\n",
       "      <td>machine-op-inspct</td>\n",
       "      <td>not-in-family</td>\n",
       "      <td>white</td>\n",
       "      <td>male</td>\n",
       "      <td>40</td>\n",
       "      <td>united-states</td>\n",
       "      <td>lessthan50k</td>\n",
       "    </tr>\n",
       "    <tr>\n",
       "      <th>1</th>\n",
       "      <td>1</td>\n",
       "      <td>&lt;18</td>\n",
       "      <td>_nan_</td>\n",
       "      <td>10th</td>\n",
       "      <td>never-married</td>\n",
       "      <td>_nan_</td>\n",
       "      <td>own-child</td>\n",
       "      <td>white</td>\n",
       "      <td>male</td>\n",
       "      <td>40</td>\n",
       "      <td>united-states</td>\n",
       "      <td>lessthan50k</td>\n",
       "    </tr>\n",
       "    <tr>\n",
       "      <th>2</th>\n",
       "      <td>2</td>\n",
       "      <td>&lt;18</td>\n",
       "      <td>private</td>\n",
       "      <td>11th</td>\n",
       "      <td>never-married</td>\n",
       "      <td>sales</td>\n",
       "      <td>own-child</td>\n",
       "      <td>white</td>\n",
       "      <td>female</td>\n",
       "      <td>25</td>\n",
       "      <td>united-states</td>\n",
       "      <td>lessthan50k</td>\n",
       "    </tr>\n",
       "    <tr>\n",
       "      <th>3</th>\n",
       "      <td>3</td>\n",
       "      <td>&lt;18</td>\n",
       "      <td>private</td>\n",
       "      <td>10th</td>\n",
       "      <td>never-married</td>\n",
       "      <td>sales</td>\n",
       "      <td>own-child</td>\n",
       "      <td>white</td>\n",
       "      <td>female</td>\n",
       "      <td>18-21</td>\n",
       "      <td>united-states</td>\n",
       "      <td>lessthan50k</td>\n",
       "    </tr>\n",
       "    <tr>\n",
       "      <th>4</th>\n",
       "      <td>4</td>\n",
       "      <td>&lt;18</td>\n",
       "      <td>_nan_</td>\n",
       "      <td>11th</td>\n",
       "      <td>never-married</td>\n",
       "      <td>_nan_</td>\n",
       "      <td>own-child</td>\n",
       "      <td>white</td>\n",
       "      <td>male</td>\n",
       "      <td>40</td>\n",
       "      <td>united-states</td>\n",
       "      <td>lessthan50k</td>\n",
       "    </tr>\n",
       "  </tbody>\n",
       "</table>\n",
       "</div>"
      ],
      "text/plain": [
       "   _tid_  age workclass education  maritalstatus         occupation  \\\n",
       "0      0  <18   private      10th  never-married  machine-op-inspct   \n",
       "1      1  <18     _nan_      10th  never-married              _nan_   \n",
       "2      2  <18   private      11th  never-married              sales   \n",
       "3      3  <18   private      10th  never-married              sales   \n",
       "4      4  <18     _nan_      11th  never-married              _nan_   \n",
       "\n",
       "    relationship   race     sex hoursperweek        country       income  \n",
       "0  not-in-family  white    male           40  united-states  lessthan50k  \n",
       "1      own-child  white    male           40  united-states  lessthan50k  \n",
       "2      own-child  white  female           25  united-states  lessthan50k  \n",
       "3      own-child  white  female        18-21  united-states  lessthan50k  \n",
       "4      own-child  white    male           40  united-states  lessthan50k  "
      ]
     },
     "execution_count": 10,
     "metadata": {},
     "output_type": "execute_result"
    }
   ],
   "source": [
    "df.head()"
   ]
  },
  {
   "cell_type": "code",
   "execution_count": 11,
   "metadata": {},
   "outputs": [
    {
     "data": {
      "text/plain": [
       "array(['age', 'workclass', 'education', 'maritalstatus', 'occupation',\n",
       "       'relationship', 'race', 'sex', 'hoursperweek', 'country', 'income'],\n",
       "      dtype=object)"
      ]
     },
     "execution_count": 11,
     "metadata": {},
     "output_type": "execute_result"
    }
   ],
   "source": [
    "# get all attributes \n",
    "data = query_df(\"select * from {}\".format(dataname))\n",
    "attributes = data.columns.values[1:]\n",
    "attributes"
   ]
  },
  {
   "cell_type": "markdown",
   "metadata": {},
   "source": [
    "### Total Errors"
   ]
  },
  {
   "cell_type": "code",
   "execution_count": 12,
   "metadata": {},
   "outputs": [],
   "source": [
    "errors_template = Template('SELECT t1._tid_, t2._attribute_, t1.\\\"$attr\\\" as init, t2._value_ as gt '\\\n",
    "                            'FROM $init_table as t1, $grdt_table as t2 '\\\n",
    "                            'WHERE t1._tid_ = t2._tid_ '\\\n",
    "                              'AND t2._attribute_ = \\'$attr\\' '\\\n",
    "                              'AND t1.\\\"$attr\\\" != t2._value_')"
   ]
  },
  {
   "cell_type": "code",
   "execution_count": 13,
   "metadata": {},
   "outputs": [],
   "source": [
    "def get_total_errors():\n",
    "    all_error = []\n",
    "    for attr in attributes:\n",
    "        query = errors_template.substitute(init_table=dataname, grdt_table='%s_clean'%dataname,\n",
    "                        attr=attr)\n",
    "        df = query_df(query)\n",
    "        all_error.append(df)\n",
    "    return all_error"
   ]
  },
  {
   "cell_type": "code",
   "execution_count": 14,
   "metadata": {},
   "outputs": [],
   "source": [
    "all_error = get_total_errors()"
   ]
  },
  {
   "cell_type": "code",
   "execution_count": 15,
   "metadata": {},
   "outputs": [],
   "source": [
    "all_error = pd.concat(all_error, ignore_index=True)"
   ]
  },
  {
   "cell_type": "code",
   "execution_count": 48,
   "metadata": {},
   "outputs": [
    {
     "data": {
      "text/plain": [
       "array(['relationship', 'race', 'sex', 'income'], dtype=object)"
      ]
     },
     "execution_count": 48,
     "metadata": {},
     "output_type": "execute_result"
    }
   ],
   "source": [
    "all_error['_attribute_'].unique()"
   ]
  },
  {
   "cell_type": "code",
   "execution_count": 17,
   "metadata": {},
   "outputs": [],
   "source": [
    "vid_template = Template(\"SELECT * from cell_domain where attribute = \\'$attr\\' and _tid_ = \\'$tid\\'\")"
   ]
  },
  {
   "cell_type": "code",
   "execution_count": 53,
   "metadata": {},
   "outputs": [
    {
     "data": {
      "text/html": [
       "<div>\n",
       "<style scoped>\n",
       "    .dataframe tbody tr th:only-of-type {\n",
       "        vertical-align: middle;\n",
       "    }\n",
       "\n",
       "    .dataframe tbody tr th {\n",
       "        vertical-align: top;\n",
       "    }\n",
       "\n",
       "    .dataframe thead th {\n",
       "        text-align: right;\n",
       "    }\n",
       "</style>\n",
       "<table border=\"1\" class=\"dataframe\">\n",
       "  <thead>\n",
       "    <tr style=\"text-align: right;\">\n",
       "      <th></th>\n",
       "      <th>_cid_</th>\n",
       "      <th>_tid_</th>\n",
       "      <th>_vid_</th>\n",
       "      <th>attribute</th>\n",
       "      <th>domain</th>\n",
       "      <th>domain_size</th>\n",
       "      <th>fixed</th>\n",
       "      <th>init_index</th>\n",
       "      <th>init_value</th>\n",
       "    </tr>\n",
       "  </thead>\n",
       "  <tbody>\n",
       "    <tr>\n",
       "      <th>0</th>\n",
       "      <td>6709</td>\n",
       "      <td>609</td>\n",
       "      <td>2777</td>\n",
       "      <td>income</td>\n",
       "      <td>lessthan5k0</td>\n",
       "      <td>1</td>\n",
       "      <td>1</td>\n",
       "      <td>0</td>\n",
       "      <td>lessthan5k0</td>\n",
       "    </tr>\n",
       "  </tbody>\n",
       "</table>\n",
       "</div>"
      ],
      "text/plain": [
       "   _cid_  _tid_  _vid_ attribute       domain  domain_size  fixed  init_index  \\\n",
       "0   6709    609   2777    income  lessthan5k0            1      1           0   \n",
       "\n",
       "    init_value  \n",
       "0  lessthan5k0  "
      ]
     },
     "execution_count": 53,
     "metadata": {},
     "output_type": "execute_result"
    }
   ],
   "source": [
    "query_df(vid_template.substitute(attr='income', tid=609))"
   ]
  },
  {
   "cell_type": "code",
   "execution_count": 19,
   "metadata": {},
   "outputs": [
    {
     "data": {
      "text/plain": [
       "321"
      ]
     },
     "execution_count": 19,
     "metadata": {},
     "output_type": "execute_result"
    }
   ],
   "source": [
    "init_count = all_error.shape[0]\n",
    "init_count"
   ]
  },
  {
   "cell_type": "markdown",
   "metadata": {},
   "source": [
    "### Total Repair"
   ]
  },
  {
   "cell_type": "code",
   "execution_count": 20,
   "metadata": {},
   "outputs": [],
   "source": [
    "query = \"SELECT t1._tid_, t1.attribute, t1.init_value as init, t2.rv_value as repair \" \\\n",
    "                 \"FROM %s as t1, %s as t2 \" \\\n",
    "                 \"WHERE t1._tid_ = t2._tid_ \" \\\n",
    "                   \"AND t1.attribute = t2.attribute \" \\\n",
    "                   \"AND t1.init_value != t2.rv_value\"\\\n",
    "                %('cell_domain', 'inf_values_dom')\n",
    "all_repair = query_df(query)"
   ]
  },
  {
   "cell_type": "code",
   "execution_count": 21,
   "metadata": {},
   "outputs": [
    {
     "data": {
      "text/html": [
       "<div>\n",
       "<style scoped>\n",
       "    .dataframe tbody tr th:only-of-type {\n",
       "        vertical-align: middle;\n",
       "    }\n",
       "\n",
       "    .dataframe tbody tr th {\n",
       "        vertical-align: top;\n",
       "    }\n",
       "\n",
       "    .dataframe thead th {\n",
       "        text-align: right;\n",
       "    }\n",
       "</style>\n",
       "<table border=\"1\" class=\"dataframe\">\n",
       "  <thead>\n",
       "    <tr style=\"text-align: right;\">\n",
       "      <th></th>\n",
       "      <th>_tid_</th>\n",
       "      <th>attribute</th>\n",
       "      <th>init</th>\n",
       "      <th>repair</th>\n",
       "    </tr>\n",
       "  </thead>\n",
       "  <tbody>\n",
       "    <tr>\n",
       "      <th>0</th>\n",
       "      <td>29</td>\n",
       "      <td>workclass</td>\n",
       "      <td>local-gov</td>\n",
       "      <td>private</td>\n",
       "    </tr>\n",
       "    <tr>\n",
       "      <th>1</th>\n",
       "      <td>78</td>\n",
       "      <td>workclass</td>\n",
       "      <td>local-gov</td>\n",
       "      <td>private</td>\n",
       "    </tr>\n",
       "    <tr>\n",
       "      <th>2</th>\n",
       "      <td>85</td>\n",
       "      <td>workclass</td>\n",
       "      <td>local-gov</td>\n",
       "      <td>private</td>\n",
       "    </tr>\n",
       "    <tr>\n",
       "      <th>3</th>\n",
       "      <td>90</td>\n",
       "      <td>maritalstatus</td>\n",
       "      <td>widowed</td>\n",
       "      <td>never-married</td>\n",
       "    </tr>\n",
       "    <tr>\n",
       "      <th>4</th>\n",
       "      <td>112</td>\n",
       "      <td>workclass</td>\n",
       "      <td>local-gov</td>\n",
       "      <td>private</td>\n",
       "    </tr>\n",
       "  </tbody>\n",
       "</table>\n",
       "</div>"
      ],
      "text/plain": [
       "   _tid_      attribute       init         repair\n",
       "0     29      workclass  local-gov        private\n",
       "1     78      workclass  local-gov        private\n",
       "2     85      workclass  local-gov        private\n",
       "3     90  maritalstatus    widowed  never-married\n",
       "4    112      workclass  local-gov        private"
      ]
     },
     "execution_count": 21,
     "metadata": {},
     "output_type": "execute_result"
    }
   ],
   "source": [
    "all_repair.head()"
   ]
  },
  {
   "cell_type": "code",
   "execution_count": 22,
   "metadata": {},
   "outputs": [
    {
     "data": {
      "text/plain": [
       "108"
      ]
     },
     "execution_count": 22,
     "metadata": {},
     "output_type": "execute_result"
    }
   ],
   "source": [
    "total_repair_init_count = all_repair.shape[0]\n",
    "total_repair_init_count"
   ]
  },
  {
   "cell_type": "code",
   "execution_count": 23,
   "metadata": {},
   "outputs": [],
   "source": [
    "query = \"SELECT t1._tid_, t1.attribute, t1.init_value as init, t2.rv_value as repair \" \\\n",
    "         \"FROM %s as t1, %s as t2, %s as t3 \" \\\n",
    "         \"WHERE t1._tid_ = t2._tid_ \" \\\n",
    "           \"AND t1.attribute = t2.attribute \" \\\n",
    "           \"AND t1.init_value != t2.rv_value \" \\\n",
    "           \"AND t1._tid_ = t3._tid_ \" \\\n",
    "           \"AND t1.attribute = t3._attribute_\"\\\n",
    "        %('cell_domain', 'inf_values_dom', '%s_clean'%dataname)\n",
    "repair_gt = query_df(query)"
   ]
  },
  {
   "cell_type": "code",
   "execution_count": 50,
   "metadata": {},
   "outputs": [
    {
     "data": {
      "text/html": [
       "<div>\n",
       "<style scoped>\n",
       "    .dataframe tbody tr th:only-of-type {\n",
       "        vertical-align: middle;\n",
       "    }\n",
       "\n",
       "    .dataframe tbody tr th {\n",
       "        vertical-align: top;\n",
       "    }\n",
       "\n",
       "    .dataframe thead th {\n",
       "        text-align: right;\n",
       "    }\n",
       "</style>\n",
       "<table border=\"1\" class=\"dataframe\">\n",
       "  <thead>\n",
       "    <tr style=\"text-align: right;\">\n",
       "      <th></th>\n",
       "      <th>_tid_</th>\n",
       "      <th>attribute</th>\n",
       "      <th>init</th>\n",
       "      <th>repair</th>\n",
       "    </tr>\n",
       "  </thead>\n",
       "  <tbody>\n",
       "    <tr>\n",
       "      <th>0</th>\n",
       "      <td>29</td>\n",
       "      <td>workclass</td>\n",
       "      <td>local-gov</td>\n",
       "      <td>private</td>\n",
       "    </tr>\n",
       "    <tr>\n",
       "      <th>1</th>\n",
       "      <td>78</td>\n",
       "      <td>workclass</td>\n",
       "      <td>local-gov</td>\n",
       "      <td>private</td>\n",
       "    </tr>\n",
       "    <tr>\n",
       "      <th>2</th>\n",
       "      <td>85</td>\n",
       "      <td>workclass</td>\n",
       "      <td>local-gov</td>\n",
       "      <td>private</td>\n",
       "    </tr>\n",
       "    <tr>\n",
       "      <th>3</th>\n",
       "      <td>90</td>\n",
       "      <td>maritalstatus</td>\n",
       "      <td>widowed</td>\n",
       "      <td>never-married</td>\n",
       "    </tr>\n",
       "    <tr>\n",
       "      <th>4</th>\n",
       "      <td>112</td>\n",
       "      <td>workclass</td>\n",
       "      <td>local-gov</td>\n",
       "      <td>private</td>\n",
       "    </tr>\n",
       "  </tbody>\n",
       "</table>\n",
       "</div>"
      ],
      "text/plain": [
       "   _tid_      attribute       init         repair\n",
       "0     29      workclass  local-gov        private\n",
       "1     78      workclass  local-gov        private\n",
       "2     85      workclass  local-gov        private\n",
       "3     90  maritalstatus    widowed  never-married\n",
       "4    112      workclass  local-gov        private"
      ]
     },
     "execution_count": 50,
     "metadata": {},
     "output_type": "execute_result"
    }
   ],
   "source": [
    "repair_gt.head()"
   ]
  },
  {
   "cell_type": "code",
   "execution_count": 30,
   "metadata": {},
   "outputs": [
    {
     "data": {
      "text/plain": [
       "108"
      ]
     },
     "execution_count": 30,
     "metadata": {},
     "output_type": "execute_result"
    }
   ],
   "source": [
    "repair_gt_init_count = repair_gt.shape[0]\n",
    "repair_gt_init_count"
   ]
  },
  {
   "cell_type": "markdown",
   "metadata": {},
   "source": [
    "### Correct Repair"
   ]
  },
  {
   "cell_type": "code",
   "execution_count": 31,
   "metadata": {},
   "outputs": [],
   "source": [
    "correct_repairs_template = Template('SELECT errors._tid_, errors._attribute_, '\\\n",
    "                            ' errors.init, errors._value_ as gt, repairs.rv_value as repair FROM'\\\n",
    "                            '(SELECT t2._tid_, t2._attribute_, t2._value_, t1.\\\"$attr\\\" as init '\\\n",
    "                             'FROM $init_table as t1, $grdt_table as t2 '\\\n",
    "                             'WHERE t1._tid_ = t2._tid_ '\\\n",
    "                               'AND t2._attribute_ = \\'$attr\\' '\\\n",
    "                               'AND t1.\\\"$attr\\\" != t2._value_ ) as errors, $inf_dom as repairs '\\\n",
    "                              'WHERE errors._tid_ = repairs._tid_ '\\\n",
    "                                'AND errors._attribute_ = repairs.attribute '\\\n",
    "                                'AND errors._value_ = repairs.rv_value')"
   ]
  },
  {
   "cell_type": "code",
   "execution_count": 32,
   "metadata": {},
   "outputs": [],
   "source": [
    "def get_total_repair():\n",
    "    all_rp = []\n",
    "    for attr in attributes:\n",
    "        query = correct_repairs_template.substitute(init_table=dataname, grdt_table='%s_clean'%dataname, \n",
    "                                            inf_dom = 'inf_values_dom', attr=attr)\n",
    "        df = query_df(query)\n",
    "        all_rp.append(df)\n",
    "    return all_rp"
   ]
  },
  {
   "cell_type": "code",
   "execution_count": 33,
   "metadata": {},
   "outputs": [],
   "source": [
    "all_repair_gt = get_total_repair()"
   ]
  },
  {
   "cell_type": "code",
   "execution_count": 34,
   "metadata": {},
   "outputs": [],
   "source": [
    "all_repair_gt = pd.concat(all_repair_gt, ignore_index=True)"
   ]
  },
  {
   "cell_type": "code",
   "execution_count": 35,
   "metadata": {},
   "outputs": [
    {
     "data": {
      "text/html": [
       "<div>\n",
       "<style scoped>\n",
       "    .dataframe tbody tr th:only-of-type {\n",
       "        vertical-align: middle;\n",
       "    }\n",
       "\n",
       "    .dataframe tbody tr th {\n",
       "        vertical-align: top;\n",
       "    }\n",
       "\n",
       "    .dataframe thead th {\n",
       "        text-align: right;\n",
       "    }\n",
       "</style>\n",
       "<table border=\"1\" class=\"dataframe\">\n",
       "  <thead>\n",
       "    <tr style=\"text-align: right;\">\n",
       "      <th></th>\n",
       "      <th>_tid_</th>\n",
       "      <th>_attribute_</th>\n",
       "      <th>init</th>\n",
       "      <th>gt</th>\n",
       "      <th>repair</th>\n",
       "    </tr>\n",
       "  </thead>\n",
       "  <tbody>\n",
       "  </tbody>\n",
       "</table>\n",
       "</div>"
      ],
      "text/plain": [
       "Empty DataFrame\n",
       "Columns: [_tid_, _attribute_, init, gt, repair]\n",
       "Index: []"
      ]
     },
     "execution_count": 35,
     "metadata": {},
     "output_type": "execute_result"
    }
   ],
   "source": [
    "all_repair_gt.head(30)"
   ]
  },
  {
   "cell_type": "code",
   "execution_count": 36,
   "metadata": {},
   "outputs": [
    {
     "data": {
      "text/plain": [
       "0"
      ]
     },
     "execution_count": 36,
     "metadata": {},
     "output_type": "execute_result"
    }
   ],
   "source": [
    "all_repair_gt.shape[0]"
   ]
  },
  {
   "cell_type": "markdown",
   "metadata": {},
   "source": [
    "### wrong repair correctly detected"
   ]
  },
  {
   "cell_type": "code",
   "execution_count": 37,
   "metadata": {},
   "outputs": [],
   "source": [
    "wrong_repairs_template = Template('SELECT errors._tid_, errors._attribute_, '\\\n",
    "                            ' errors.init, errors._value_ as gt, repairs.rv_value as repair FROM'\\\n",
    "                            '(SELECT t2._tid_, t2._attribute_, t2._value_, t1.\\\"$attr\\\" as init '\\\n",
    "                             'FROM $init_table as t1, $grdt_table as t2 '\\\n",
    "                             'WHERE t1._tid_ = t2._tid_ '\\\n",
    "                               'AND t2._attribute_ = \\'$attr\\' '\\\n",
    "                               'AND t1.\\\"$attr\\\" != t2._value_ ) as errors, $inf_dom as repairs '\\\n",
    "                              'WHERE errors._tid_ = repairs._tid_ '\\\n",
    "                                'AND errors._attribute_ = repairs.attribute '\\\n",
    "                                'AND errors._value_ <> repairs.rv_value')"
   ]
  },
  {
   "cell_type": "code",
   "execution_count": 38,
   "metadata": {},
   "outputs": [],
   "source": [
    "def get_total_wrong_repair():\n",
    "    all_rp = []\n",
    "    for attr in attributes:\n",
    "        query = wrong_repairs_template.substitute(init_table=dataname, grdt_table='%s_clean'%dataname, \n",
    "                                            inf_dom = 'inf_values_dom', attr=attr)\n",
    "        df = query_df(query)\n",
    "        all_rp.append(df)\n",
    "    return all_rp"
   ]
  },
  {
   "cell_type": "code",
   "execution_count": 39,
   "metadata": {},
   "outputs": [],
   "source": [
    "wrong_repair_gt = get_total_wrong_repair()"
   ]
  },
  {
   "cell_type": "code",
   "execution_count": 40,
   "metadata": {},
   "outputs": [],
   "source": [
    "wrong_repair_gt = pd.concat(wrong_repair_gt, ignore_index=True)"
   ]
  },
  {
   "cell_type": "code",
   "execution_count": 41,
   "metadata": {},
   "outputs": [
    {
     "data": {
      "text/html": [
       "<div>\n",
       "<style scoped>\n",
       "    .dataframe tbody tr th:only-of-type {\n",
       "        vertical-align: middle;\n",
       "    }\n",
       "\n",
       "    .dataframe tbody tr th {\n",
       "        vertical-align: top;\n",
       "    }\n",
       "\n",
       "    .dataframe thead th {\n",
       "        text-align: right;\n",
       "    }\n",
       "</style>\n",
       "<table border=\"1\" class=\"dataframe\">\n",
       "  <thead>\n",
       "    <tr style=\"text-align: right;\">\n",
       "      <th></th>\n",
       "      <th>_tid_</th>\n",
       "      <th>_attribute_</th>\n",
       "      <th>init</th>\n",
       "      <th>gt</th>\n",
       "      <th>repair</th>\n",
       "    </tr>\n",
       "  </thead>\n",
       "  <tbody>\n",
       "    <tr>\n",
       "      <th>0</th>\n",
       "      <td>1975</td>\n",
       "      <td>relationship</td>\n",
       "      <td>own-child</td>\n",
       "      <td>not-in-family</td>\n",
       "      <td>own-child</td>\n",
       "    </tr>\n",
       "    <tr>\n",
       "      <th>1</th>\n",
       "      <td>1512</td>\n",
       "      <td>sex</td>\n",
       "      <td>male</td>\n",
       "      <td>female</td>\n",
       "      <td>male</td>\n",
       "    </tr>\n",
       "  </tbody>\n",
       "</table>\n",
       "</div>"
      ],
      "text/plain": [
       "  _tid_   _attribute_       init             gt     repair\n",
       "0  1975  relationship  own-child  not-in-family  own-child\n",
       "1  1512           sex       male         female       male"
      ]
     },
     "execution_count": 41,
     "metadata": {},
     "output_type": "execute_result"
    }
   ],
   "source": [
    "wrong_repair_gt"
   ]
  },
  {
   "cell_type": "markdown",
   "metadata": {},
   "source": [
    "### Detected Errors"
   ]
  },
  {
   "cell_type": "code",
   "execution_count": 42,
   "metadata": {},
   "outputs": [],
   "source": [
    "query = \"SELECT t1._tid_, t1.init_value as init, t2._value_ as gt \" \\\n",
    "        \"FROM %s as t1, %s as t2, %s as t3 \" \\\n",
    "        \"WHERE t1._tid_ = t2._tid_ AND t1._cid_ = t3._cid_ \" \\\n",
    "        \"AND t1.attribute = t2._attribute_ \" \\\n",
    "        \"AND t1.init_value != t2._value_\" \\\n",
    "        % ('cell_domain', '%s_clean'%dataname, 'dk_cells')"
   ]
  },
  {
   "cell_type": "code",
   "execution_count": 43,
   "metadata": {},
   "outputs": [],
   "source": [
    "init_error = query_df(query)"
   ]
  },
  {
   "cell_type": "code",
   "execution_count": 44,
   "metadata": {},
   "outputs": [
    {
     "data": {
      "text/plain": [
       "109"
      ]
     },
     "execution_count": 44,
     "metadata": {},
     "output_type": "execute_result"
    }
   ],
   "source": [
    "init_error.shape[0]"
   ]
  },
  {
   "cell_type": "code",
   "execution_count": 45,
   "metadata": {},
   "outputs": [
    {
     "data": {
      "text/html": [
       "<div>\n",
       "<style scoped>\n",
       "    .dataframe tbody tr th:only-of-type {\n",
       "        vertical-align: middle;\n",
       "    }\n",
       "\n",
       "    .dataframe tbody tr th {\n",
       "        vertical-align: top;\n",
       "    }\n",
       "\n",
       "    .dataframe thead th {\n",
       "        text-align: right;\n",
       "    }\n",
       "</style>\n",
       "<table border=\"1\" class=\"dataframe\">\n",
       "  <thead>\n",
       "    <tr style=\"text-align: right;\">\n",
       "      <th></th>\n",
       "      <th>_tid_</th>\n",
       "      <th>init</th>\n",
       "      <th>gt</th>\n",
       "    </tr>\n",
       "  </thead>\n",
       "  <tbody>\n",
       "    <tr>\n",
       "      <th>0</th>\n",
       "      <td>1512</td>\n",
       "      <td>male</td>\n",
       "      <td>female</td>\n",
       "    </tr>\n",
       "    <tr>\n",
       "      <th>1</th>\n",
       "      <td>1975</td>\n",
       "      <td>own-child</td>\n",
       "      <td>not-in-family</td>\n",
       "    </tr>\n",
       "    <tr>\n",
       "      <th>2</th>\n",
       "      <td>609</td>\n",
       "      <td>lessthan5k0</td>\n",
       "      <td>lessthan50k</td>\n",
       "    </tr>\n",
       "    <tr>\n",
       "      <th>3</th>\n",
       "      <td>619</td>\n",
       "      <td>lnessthan50k</td>\n",
       "      <td>lessthan50k</td>\n",
       "    </tr>\n",
       "    <tr>\n",
       "      <th>4</th>\n",
       "      <td>628</td>\n",
       "      <td>lessthn50k</td>\n",
       "      <td>lessthan50k</td>\n",
       "    </tr>\n",
       "    <tr>\n",
       "      <th>5</th>\n",
       "      <td>650</td>\n",
       "      <td>leqssthan50k</td>\n",
       "      <td>lessthan50k</td>\n",
       "    </tr>\n",
       "    <tr>\n",
       "      <th>6</th>\n",
       "      <td>656</td>\n",
       "      <td>lessthan0k</td>\n",
       "      <td>lessthan50k</td>\n",
       "    </tr>\n",
       "    <tr>\n",
       "      <th>7</th>\n",
       "      <td>657</td>\n",
       "      <td>lessthan50k***</td>\n",
       "      <td>lessthan50k</td>\n",
       "    </tr>\n",
       "    <tr>\n",
       "      <th>8</th>\n",
       "      <td>734</td>\n",
       "      <td>lssthan50k</td>\n",
       "      <td>lessthan50k</td>\n",
       "    </tr>\n",
       "    <tr>\n",
       "      <th>9</th>\n",
       "      <td>735</td>\n",
       "      <td>lesstha5n0k</td>\n",
       "      <td>lessthan50k</td>\n",
       "    </tr>\n",
       "  </tbody>\n",
       "</table>\n",
       "</div>"
      ],
      "text/plain": [
       "   _tid_            init             gt\n",
       "0   1512            male         female\n",
       "1   1975       own-child  not-in-family\n",
       "2    609     lessthan5k0    lessthan50k\n",
       "3    619    lnessthan50k    lessthan50k\n",
       "4    628      lessthn50k    lessthan50k\n",
       "5    650    leqssthan50k    lessthan50k\n",
       "6    656      lessthan0k    lessthan50k\n",
       "7    657  lessthan50k***    lessthan50k\n",
       "8    734      lssthan50k    lessthan50k\n",
       "9    735     lesstha5n0k    lessthan50k"
      ]
     },
     "execution_count": 45,
     "metadata": {},
     "output_type": "execute_result"
    }
   ],
   "source": [
    "init_error.head(10)"
   ]
  },
  {
   "cell_type": "code",
   "execution_count": null,
   "metadata": {},
   "outputs": [],
   "source": []
  }
 ],
 "metadata": {
  "kernelspec": {
   "display_name": "torch",
   "language": "python",
   "name": "torch"
  },
  "language_info": {
   "codemirror_mode": {
    "name": "ipython",
    "version": 2
   },
   "file_extension": ".py",
   "mimetype": "text/x-python",
   "name": "python",
   "nbconvert_exporter": "python",
   "pygments_lexer": "ipython2",
   "version": "2.7.15"
  }
 },
 "nbformat": 4,
 "nbformat_minor": 2
}
